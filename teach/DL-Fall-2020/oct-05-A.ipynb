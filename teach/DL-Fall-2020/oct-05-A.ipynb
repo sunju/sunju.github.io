{
  "nbformat": 4,
  "nbformat_minor": 0,
  "metadata": {
    "colab": {
      "name": "MachineLearningToolsAtMSI.ipynb",
      "provenance": [],
      "collapsed_sections": []
    },
    "kernelspec": {
      "name": "python3",
      "display_name": "Python 3"
    },
    "accelerator": "GPU"
  },
  "cells": [
    {
      "cell_type": "markdown",
      "metadata": {
        "id": "tTBsQ7Vzu63_"
      },
      "source": [
        "# Introduction to MSI, TensorFlow, PyTorch, NumPy, SciPy\n",
        "\n",
        "## Outline\n",
        "Below is a short introdcution some tools used in deep learning applications. We will go over\n",
        "* Connecting and running jobs at MSI\n",
        "* Using custom kernels in Jupyter\n",
        "* Construction of a basic neural network with TensorFlow \n",
        "* Saving/Restoring models\n",
        "* Basic example of PyTorch\n",
        "\n",
        "http://z.umn.edu/colab-5980\n"
      ]
    },
    {
      "cell_type": "markdown",
      "metadata": {
        "id": "ECqfy8U2aA3g"
      },
      "source": [
        "# Introduction to MSI\n",
        "\n",
        "### Connecting to MSI\n",
        "- SSH from UMN network (including wireless and VPN)\n",
        "```\n",
        "ssh login.msi.umn.edu\n",
        "ssh mesabi\n",
        "```\n",
        "- Jupyter (https://notebooks.msi.umn.edu/)\n",
        "\n",
        "### Storage\n",
        "- Home directory ~/\n",
        "- Global scratch /scratch.global\n",
        "- Local scratch /scratch.local\n",
        "- S3 storage (s3.msi.umn.edu)\n",
        "```\n",
        "ssh login.msi.umn.edu\n",
        "s3cmd ls \n",
        "s3cmd mb s3://$USER\n",
        "s3cmd put some.file s3://$USER/some.file\n",
        "```\n",
        "\n",
        "### Software\n",
        "- environment modules\n",
        " - used to control environment variables and prevent conflicts between the hundreds of installed software packages\n",
        "```\n",
        "module avail python\n",
        "module load python/3.6.3\n",
        "module unload python\n",
        "```\n",
        "\n",
        "### Compute Hardware\n",
        "![MSI Servers](https://blynch.s3.msi.umn.edu/public/csci_5980_1_5.png)\n",
        "\n",
        "\n",
        "- Mesabi (2015)\n",
        " - Cores: 19,040 Intel Haswell\n",
        " - Memory: 83 TB\n",
        " - Accelerators: 80 K40 Nvidia gpGPUs\n",
        " - Peak: 860 TFlops\n",
        "\n",
        "- Mangi (2019 Mesabi upgrade) \n",
        " - Cores: 20,888 AMD Rome\n",
        " - Memory: 56 TB\n",
        " - Accelerators: 40 Nvidia V100s\n",
        " - Peak: 1150 TFlops\n",
        "\n",
        "- Mesabi+1 (2021)\n",
        " - Cores: ~40 k\n",
        " - Memory: ~180 TB\n",
        " - Accelerators: ~300 GPUs\n"
      ]
    },
    {
      "cell_type": "markdown",
      "metadata": {
        "id": "I4jHzxnEY7N-"
      },
      "source": [
        "## Singularity\n",
        "- Run most containers on MSI resources without sudo permission\n",
        "```\n",
        "module load singularity\n",
        "```\n",
        "\n",
        "Singularity can be used to run most Docker containers. You can create a container on an Ubuntu laptop, transfer it to MSI, and then execute it using Singularity on the CentOS7 compute nodes.\n",
        "\n",
        "**Note: you CAN NOT currently build singularity images on MSI login nodes**<br/>\n",
        "You can\n",
        "- create images elsewhere\n",
        "- download from trusted sources\n",
        "- remote build your continaers using the singularity public servers \n",
        "  - https://sylabs.io/\n",
        "\n",
        "```\n",
        "blynch@ln0006 [~/] cat test.spec\n",
        "Bootstrap: docker\n",
        "From: ubuntu:xenial-20191108\n",
        "\n",
        "%post\n",
        "apt-get update\n",
        "apt-get upgrade -y\n",
        "\n",
        "blynch@ln0006 [~/] singularity build --remote mytest.img test.spec\n",
        "```\n",
        "\n",
        "### Links\n",
        "- [MSI Website](https://msi.umn.edu)\n",
        "- [MSI YouTube Channel](https://www.youtube.com/channel/UCbdSk8D0_NP9BNbe2uXhV8Q)"
      ]
    },
    {
      "cell_type": "markdown",
      "metadata": {
        "id": "_ueJMEGexrgZ"
      },
      "source": [
        "# Batch Computing\n",
        "\n",
        "1. Create a batch script\n",
        "2. Submit script to a queue\n",
        "3. Scheduler runs script at some point on the reosurces requested\n",
        "\n",
        "A PBS submission script has 2 components\n",
        "1. #PBS directives to tell the scheduler what resources you want\n",
        "2. a set of commands to run\n",
        "\n",
        "**An example script would look like:**\n",
        "\n",
        "```\n",
        "#!/usr/bin/bash\n",
        "#PBS -l nodes=1:ppn=24\n",
        "#PBS -l walltime=5:00:00\n",
        "#PBS -l mem=60gb\n",
        "#PBS -e myjob.e\n",
        "#PBS -o myjob.o\n",
        "#PBS -q mesabi\n",
        "\n",
        "module load python\n",
        "source activate myenvironment\n",
        "cd some/directory\n",
        "python something.py\n",
        "```\n",
        "**and can be submitted like:**\n",
        "\n",
        "```\n",
        "qsub myscript.sh\n",
        "```\n",
        "\n",
        "\n",
        "### Job Queues\n",
        "https://www.msi.umn.edu/queues\n"
      ]
    },
    {
      "cell_type": "markdown",
      "metadata": {
        "id": "T4jprTf3pHO9"
      },
      "source": [
        "# Interactive computing\n",
        "- Jupyter (https://notebooks.msi.umn.edu)\n",
        "- qsub <br>\n",
        "From the command line:\n",
        "```\n",
        "ssh login.msi.umn.edu\n",
        "ssh mesabi\n",
        "qsub -l nodes=1:ppn=2,mem=2gb,walltime=1:00:00 -q interactive -I\n",
        "```\n",
        "\n",
        "The **interactive** queue is more available than other queues, but you can always request resources for interactive use. E.g.;\n",
        "```\n",
        "qsub -l nodes=1:ppn=24,gpus=2,walltime=1:00:00 -q k40 -I\n",
        "```\n",
        "or\n",
        "```\n",
        "qsub -l nodes=1:ppn=24,gpus=2,walltime=1:00:00 -q v100 -I\n",
        "```\n",
        "\n",
        "\n",
        "MSI will be transitioning to a new scheduler named Slurm very soon. For Slurm, the syntax will be:\n",
        "\n",
        "```\n",
        "srun -p interactive --pty bash\n",
        "``` \n",
        "\n",
        "Additional information on the new scheduler can be found here:\n",
        "https://www.msi.umn.edu/content/job-submission-and-scheduling-slurm"
      ]
    },
    {
      "cell_type": "markdown",
      "metadata": {
        "id": "hdzaZ5Gv1OtN"
      },
      "source": [
        "# Using Custom Kernels in Jupyter\n",
        "\n",
        "\n",
        "1.   ssh into mesabi\n",
        "2.   load python module\n",
        "3.   create a new python environment\n",
        "4.   customize environment\n",
        "\n"
      ]
    },
    {
      "cell_type": "markdown",
      "metadata": {
        "id": "Yxa6zYA-1Scs"
      },
      "source": [
        "```\n",
        "ssh login.msi.umn.edu\n",
        "ssh mesabi\n",
        "\n",
        "module load python\n",
        "conda create -y --name myproject\n",
        "source activate myproject\n",
        "```"
      ]
    },
    {
      "cell_type": "markdown",
      "metadata": {
        "id": "NvVEWr758JGV"
      },
      "source": [
        "```\n",
        "mkdir .local/share/jupyter/kernels/mynewkernel\n",
        "vi .local/share/jupyter/kernels/mynewkernel/kernel.json\n",
        "```"
      ]
    },
    {
      "cell_type": "markdown",
      "metadata": {
        "id": "KWLG8XWI0YIB"
      },
      "source": [
        "```\n",
        "{\n",
        " \"argv\": [\n",
        "  \"/home/support/blynch/.conda/envs/mynewkernel/bin/python\",\n",
        "  \"-m\",\n",
        "  \"ipykernel_launcher\",\n",
        "  \"-f\",\n",
        "  \"{connection_file}\"\n",
        " ],\n",
        " \"display_name\": \"Python 3 - My Special Kernel\",\n",
        " \"language\": \"python\"\n",
        "}\n",
        "```"
      ]
    },
    {
      "cell_type": "markdown",
      "metadata": {
        "id": "wLFUmSqmz_b5"
      },
      "source": [
        "customize your kernels\n",
        "```\n",
        "{\n",
        " \"argv\": [\n",
        "  \"/opt/singularity/singularity\",\n",
        "  \"exec\",\n",
        "  \"-B\",\n",
        "  \"/panfs/roc/groups/2/support/blynch:/panfs/roc/groups/2/support/blynch\",\n",
        "  \"/home/support/blynch/singularity/tf.simg\",\n",
        "  \"/opt/anaconda3/bin/python\",\n",
        "  \"-m\",\n",
        "  \"ipykernel\",\n",
        "  \"-f\",\n",
        "  \"{connection_file}\"\n",
        " ],\n",
        " \"display_name\": \"Python 3.6 Singularity Tensorflow r1.12\",\n",
        " \"language\": \"python\"\n",
        "}\n",
        "```"
      ]
    },
    {
      "cell_type": "code",
      "metadata": {
        "id": "9rJOVmOW_LZr"
      },
      "source": [
        ""
      ],
      "execution_count": null,
      "outputs": []
    },
    {
      "cell_type": "markdown",
      "metadata": {
        "id": "yNdLD3y05Xuh"
      },
      "source": [
        "- Tensorflow as started by Google, released in November 2015\n",
        "- Written in C++\n",
        "- Typically used from within Python directly or through the Keras module in Python"
      ]
    },
    {
      "cell_type": "markdown",
      "metadata": {
        "id": "4-NER2_YH7Dn"
      },
      "source": [
        "# TensorFlow basics\n",
        "\n",
        "1. Define a directed graph\n",
        "2. execute\n",
        "\n",
        "![alt text](https://upload.wikimedia.org/wikipedia/commons/f/fe/Tred-G.svg)\n",
        "\n",
        "\n",
        "\n",
        "\n",
        "\n"
      ]
    },
    {
      "cell_type": "code",
      "metadata": {
        "id": "atwH1PalIXkm"
      },
      "source": [
        "import tensorflow as tf\n",
        "x = tf.Variable(3, name=\"x\")\n",
        "y = tf.Variable(7, name=\"y\")\n",
        "f = x*100 + y*3 - 7\n",
        "print(f)"
      ],
      "execution_count": null,
      "outputs": []
    },
    {
      "cell_type": "markdown",
      "metadata": {
        "id": "s1YF5179I1-a"
      },
      "source": [
        "# Keras\n",
        "- developed as a high-level interface to create neural networks with Tensorflow and Theano.\n",
        "- now it also supports Microsoft CNTK\n",
        "\n",
        "![alt text]( https://blynch.s3.msi.umn.edu/public/csci_5980_1_6.png)"
      ]
    },
    {
      "cell_type": "code",
      "metadata": {
        "id": "RiuhIP6pIKah",
        "outputId": "816bd3d2-c2d2-445c-e194-48d89d5fe512",
        "colab": {
          "base_uri": "https://localhost:8080/",
          "height": 255
        }
      },
      "source": [
        "import tensorflow as tf\n",
        "mnist = tf.keras.datasets.mnist\n",
        "\n",
        "(x_train, y_train),(x_test, y_test) = mnist.load_data()\n",
        "x_train, x_test = x_train / 255.0, x_test / 255.0\n",
        "\n",
        "model = tf.keras.models.Sequential([\n",
        "  tf.keras.layers.Flatten(input_shape=(28, 28)),\n",
        "  tf.keras.layers.Dense(128, activation='relu'),\n",
        "  tf.keras.layers.Dropout(0.2),\n",
        "  tf.keras.layers.Dense(10, activation='softmax')\n",
        "])\n",
        "\n",
        "model.compile(optimizer='adam',\n",
        "              loss='sparse_categorical_crossentropy',\n",
        "              metrics=['accuracy'])\n",
        "\n",
        "model.fit(x_train, y_train, epochs=5)\n",
        "model.evaluate(x_test, y_test)"
      ],
      "execution_count": null,
      "outputs": [
        {
          "output_type": "stream",
          "text": [
            "Downloading data from https://storage.googleapis.com/tensorflow/tf-keras-datasets/mnist.npz\n",
            "11493376/11490434 [==============================] - 0s 0us/step\n",
            "Epoch 1/5\n",
            "1875/1875 [==============================] - 3s 2ms/step - loss: 0.2943 - accuracy: 0.9146\n",
            "Epoch 2/5\n",
            "1875/1875 [==============================] - 3s 2ms/step - loss: 0.1406 - accuracy: 0.9580\n",
            "Epoch 3/5\n",
            "1875/1875 [==============================] - 3s 2ms/step - loss: 0.1069 - accuracy: 0.9679\n",
            "Epoch 4/5\n",
            "1875/1875 [==============================] - 3s 2ms/step - loss: 0.0859 - accuracy: 0.9732\n",
            "Epoch 5/5\n",
            "1875/1875 [==============================] - 3s 2ms/step - loss: 0.0744 - accuracy: 0.9771\n",
            "313/313 [==============================] - 1s 2ms/step - loss: 0.0710 - accuracy: 0.9774\n"
          ],
          "name": "stdout"
        },
        {
          "output_type": "execute_result",
          "data": {
            "text/plain": [
              "[0.07097658514976501, 0.977400004863739]"
            ]
          },
          "metadata": {
            "tags": []
          },
          "execution_count": 1
        }
      ]
    },
    {
      "cell_type": "code",
      "metadata": {
        "id": "4CZ4QnOTILXd",
        "outputId": "a7a18864-8b76-4292-c31d-e27838e419a6",
        "colab": {
          "base_uri": "https://localhost:8080/",
          "height": 289
        }
      },
      "source": [
        "model.summary()"
      ],
      "execution_count": null,
      "outputs": [
        {
          "output_type": "stream",
          "text": [
            "Model: \"sequential\"\n",
            "_________________________________________________________________\n",
            "Layer (type)                 Output Shape              Param #   \n",
            "=================================================================\n",
            "flatten (Flatten)            (None, 784)               0         \n",
            "_________________________________________________________________\n",
            "dense (Dense)                (None, 128)               100480    \n",
            "_________________________________________________________________\n",
            "dropout (Dropout)            (None, 128)               0         \n",
            "_________________________________________________________________\n",
            "dense_1 (Dense)              (None, 10)                1290      \n",
            "=================================================================\n",
            "Total params: 101,770\n",
            "Trainable params: 101,770\n",
            "Non-trainable params: 0\n",
            "_________________________________________________________________\n"
          ],
          "name": "stdout"
        }
      ]
    },
    {
      "cell_type": "code",
      "metadata": {
        "id": "ttyGao1VJ5Xv",
        "outputId": "4bbfe95f-8234-4dac-9357-61038f7986f8",
        "colab": {
          "base_uri": "https://localhost:8080/",
          "height": 391
        }
      },
      "source": [
        "from keras.callbacks import ModelCheckpoint\n",
        "\n",
        "!mkdir /content/scratch\n",
        "output_basename   = 'blynch-job1.hdf5'\n",
        "output_model_name = '/content/scratch/' + output_basename\n",
        "\n",
        "checkpointer = ModelCheckpoint(output_model_name, monitor='val_loss', verbose=1, mode='auto')\n",
        "\n",
        "model.fit(x_train, y_train, epochs=5, callbacks=[checkpointer])\n",
        "\n",
        "!ls -l /content/scratch\n",
        "\n",
        "\n",
        "#model = load_model(input_model_name)\n",
        "\n"
      ],
      "execution_count": null,
      "outputs": [
        {
          "output_type": "stream",
          "text": [
            "Epoch 1/5\n",
            "1866/1875 [============================>.] - ETA: 0s - loss: 0.0639 - accuracy: 0.9794\n",
            "Epoch 00001: saving model to /content/scratch/blynch-job1.hdf5\n",
            "1875/1875 [==============================] - 4s 2ms/step - loss: 0.0640 - accuracy: 0.9794\n",
            "Epoch 2/5\n",
            "1871/1875 [============================>.] - ETA: 0s - loss: 0.0579 - accuracy: 0.9812\n",
            "Epoch 00002: saving model to /content/scratch/blynch-job1.hdf5\n",
            "1875/1875 [==============================] - 3s 2ms/step - loss: 0.0579 - accuracy: 0.9812\n",
            "Epoch 3/5\n",
            "1863/1875 [============================>.] - ETA: 0s - loss: 0.0527 - accuracy: 0.9831\n",
            "Epoch 00003: saving model to /content/scratch/blynch-job1.hdf5\n",
            "1875/1875 [==============================] - 3s 2ms/step - loss: 0.0526 - accuracy: 0.9831\n",
            "Epoch 4/5\n",
            "1858/1875 [============================>.] - ETA: 0s - loss: 0.0481 - accuracy: 0.9846\n",
            "Epoch 00004: saving model to /content/scratch/blynch-job1.hdf5\n",
            "1875/1875 [==============================] - 3s 2ms/step - loss: 0.0481 - accuracy: 0.9846\n",
            "Epoch 5/5\n",
            "1869/1875 [============================>.] - ETA: 0s - loss: 0.0415 - accuracy: 0.9865\n",
            "Epoch 00005: saving model to /content/scratch/blynch-job1.hdf5\n",
            "1875/1875 [==============================] - 3s 2ms/step - loss: 0.0414 - accuracy: 0.9865\n",
            "total 1220\n",
            "-rw-r--r-- 1 root root 1248504 Oct  6 00:10 blynch-job1.hdf5\n"
          ],
          "name": "stdout"
        }
      ]
    },
    {
      "cell_type": "code",
      "metadata": {
        "id": "ALIC80_pf_m8",
        "outputId": "2a2fbe05-93fd-4968-e11a-cda531a81122",
        "colab": {
          "base_uri": "https://localhost:8080/",
          "height": 34
        }
      },
      "source": [
        "# copy a trained model to somewhere more permanent\n",
        "from google.colab import drive\n",
        "drive.mount('/content/gdrive')\n",
        "\n",
        "!cp /content/scratch/blynch-job1.hdf5 '/content/gdrive/My Drive/Tensorflow'"
      ],
      "execution_count": null,
      "outputs": [
        {
          "output_type": "stream",
          "text": [
            "Mounted at /content/gdrive\n"
          ],
          "name": "stdout"
        }
      ]
    },
    {
      "cell_type": "markdown",
      "metadata": {
        "id": "pHOSNWenuBiu"
      },
      "source": [
        "#TensorBoard\n",
        "- Tensorboard is a tool to vizualize TensorFlow graphs and output.\n",
        "- TensorFlow can output metrics to track the optimization process for a model\n",
        "\n",
        "```\n",
        "tensorboard_callback = keras.callbacks.TensorBoard(log_dir=logdir)\n",
        "```\n",
        "\n",
        "![alt text](https://www.tensorflow.org/tensorboard/images/tensorboard.gif)"
      ]
    },
    {
      "cell_type": "markdown",
      "metadata": {
        "id": "of5IqXU4vnEK"
      },
      "source": [
        "# Stacking layers\n",
        "Instea of defining the entire model in 1 line, we can add layers like this:"
      ]
    },
    {
      "cell_type": "code",
      "metadata": {
        "id": "M0M0k-GHvmIg"
      },
      "source": [
        "from keras.models import Sequential\n",
        "from keras.layers import Dense\n",
        "model = Sequential()"
      ],
      "execution_count": null,
      "outputs": []
    },
    {
      "cell_type": "markdown",
      "metadata": {
        "id": "C7eQZUHWwGXP"
      },
      "source": [
        "### Then we can add layers"
      ]
    },
    {
      "cell_type": "code",
      "metadata": {
        "id": "lg8k8Z0XwamA"
      },
      "source": [
        "model.add(Dense(units=64, activation='relu', input_dim=100))\n",
        "model.add(Dense(units=10, activation='softmax'))"
      ],
      "execution_count": null,
      "outputs": []
    },
    {
      "cell_type": "markdown",
      "metadata": {
        "id": "mJ3Yzu-qwn-i"
      },
      "source": [
        "and then compile the model with a loss function and optimizer"
      ]
    },
    {
      "cell_type": "code",
      "metadata": {
        "id": "sJW2rhNSwxVs"
      },
      "source": [
        "model.compile(loss='categorical_crossentropy',\n",
        "              optimizer='sgd',\n",
        "              metrics=['accuracy'])"
      ],
      "execution_count": null,
      "outputs": []
    },
    {
      "cell_type": "code",
      "metadata": {
        "id": "3WFPQNT2xaYz"
      },
      "source": [
        ""
      ],
      "execution_count": null,
      "outputs": []
    },
    {
      "cell_type": "markdown",
      "metadata": {
        "id": "hWJDWwiHyFWt"
      },
      "source": [
        "<img src=\"https://lmb.informatik.uni-freiburg.de/people/ronneber/u-net/u-net-architecture.png\" alt=\"Drawing\" width=\"800\"/>\n",
        "\n",
        "```\n",
        "  inputs = Input((IMG_WIDTH,IMG_WIDTH, 1))\n",
        "\n",
        "  layers = [0] * (U_DEPTH*4+2)\n",
        "  crops  = [0] *  U_DEPTH\n",
        "  layers[0] = Lambda(lambda x: x / 255) (inputs)\n",
        "  \n",
        "  for i in range(U_DEPTH):\n",
        "      features = MIN_FEATURES*2**i\n",
        "      layers[2*i+1] = Conv2D(features, (3, 3), activation='elu', kernel_initializer='he_normal', padding=padding) (layers[2*i])\n",
        "      layers[2*i+1] = Conv2D(features, (3, 3), activation='elu', kernel_initializer='he_normal', padding=padding) (layers[2*i+1])\n",
        "      layers[2*i+2] = MaxPooling2D((2, 2)) (layers[2*i+1])\n",
        "  features = MIN_FEATURES*2**U_DEPTH\n",
        "  layers[U_DEPTH*2+1] = Conv2D(features, (3, 3), activation='elu', kernel_initializer='he_normal', padding=padding) (layers[U_DEPTH*2])\n",
        "  layers[U_DEPTH*2+1] = Conv2D(features, (3, 3), activation='elu', kernel_initializer='he_normal', padding=padding) (layers[U_DEPTH*2+1])\n",
        "\n",
        "  for i in range(U_DEPTH):\n",
        "      edge = 2**(i+2) + 2**(i+3) - 2**3\n",
        "      features = MIN_FEATURES*2**(U_DEPTH-i-1)\n",
        "      crops[i] = Cropping2D((edge, edge))(layers[U_DEPTH*2-1-2*i])\n",
        "      layers[U_DEPTH*2+2+i*2] = Conv2DTranspose(features, (2, 2), strides=(2, 2), padding=padding) (layers[U_DEPTH*2+1+i*2])\n",
        "      layers[U_DEPTH*2+2+i*2] = concatenate([layers[U_DEPTH*2+2+i*2], crops[i]], axis=3)\n",
        "      layers[U_DEPTH*2+3+i*2] = Conv2D(features, (3, 3), activation='elu', kernel_initializer='he_normal', padding=padding) (layers[U_DEPTH*2+2+i*2])\n",
        "      layers[U_DEPTH*2+3+i*2] = Conv2D(features, (3, 3), activation='elu', kernel_initializer='he_normal', padding=padding) (layers[U_DEPTH*2+3+i*2])\n",
        "\n",
        "  outputs = Conv2D(1, (1, 1), activation='sigmoid') (layers[U_DEPTH*4+1])\n",
        "  model = Model(inputs=[inputs], outputs=[outputs])\n",
        "```"
      ]
    },
    {
      "cell_type": "markdown",
      "metadata": {
        "id": "Hp3xA6CWMNhG"
      },
      "source": [
        "# PyTorch"
      ]
    },
    {
      "cell_type": "code",
      "metadata": {
        "id": "pLPcY1WW0YB7"
      },
      "source": [
        "import torch\n",
        "\n",
        "# N is batch size; D_in is input dimension;\n",
        "# H is hidden dimension; D_out is output dimension.\n",
        "N, D_in, H, D_out = 64, 1000, 100, 10\n",
        "\n",
        "# Create random Tensors to hold inputs and outputs\n",
        "x = torch.randn(N, D_in)\n",
        "y = torch.randn(N, D_out)\n",
        "\n",
        "# Use the nn package to define our model as a sequence of layers. nn.Sequential\n",
        "# is a Module which contains other Modules, and applies them in sequence to\n",
        "# produce its output. Each Linear Module computes output from input using a\n",
        "# linear function, and holds internal Tensors for its weight and bias.\n",
        "model = torch.nn.Sequential(\n",
        "    torch.nn.Linear(D_in, H),\n",
        "    torch.nn.ReLU(),\n",
        "    torch.nn.Linear(H, D_out),\n",
        ")\n",
        "\n",
        "# The nn package also contains definitions of popular loss functions; in this\n",
        "# case we will use Mean Squared Error (MSE) as our loss function.\n",
        "loss_fn = torch.nn.MSELoss(reduction='sum')\n",
        "\n",
        "learning_rate = 1e-4\n",
        "for t in range(500):\n",
        "    # Forward pass: compute predicted y by passing x to the model. Module objects\n",
        "    # override the __call__ operator so you can call them like functions. When\n",
        "    # doing so you pass a Tensor of input data to the Module and it produces\n",
        "    # a Tensor of output data.\n",
        "    y_pred = model(x)\n",
        "\n",
        "    # Compute and print loss. We pass Tensors containing the predicted and true\n",
        "    # values of y, and the loss function returns a Tensor containing the\n",
        "    # loss.\n",
        "    loss = loss_fn(y_pred, y)\n",
        "    if t % 100 == 99:\n",
        "        print(t, loss.item())\n",
        "\n",
        "    # Zero the gradients before running the backward pass.\n",
        "    model.zero_grad()\n",
        "\n",
        "    # Backward pass: compute gradient of the loss with respect to all the learnable\n",
        "    # parameters of the model. Internally, the parameters of each Module are stored\n",
        "    # in Tensors with requires_grad=True, so this call will compute gradients for\n",
        "    # all learnable parameters in the model.\n",
        "    loss.backward()\n",
        "\n",
        "    # Update the weights using gradient descent. Each parameter is a Tensor, so\n",
        "    # we can access its gradients like we did before.\n",
        "    with torch.no_grad():\n",
        "        for param in model.parameters():\n",
        "            param -= learning_rate * param.grad"
      ],
      "execution_count": null,
      "outputs": []
    },
    {
      "cell_type": "markdown",
      "metadata": {
        "id": "2D6Mq27-NGq7"
      },
      "source": [
        "# Using GPUs and Parallel Training\n",
        "\n",
        "## Tensorflow\n",
        "\n",
        "When using a GPU-enabled version of Tensorflow on hardware with GPUs, TensorFlow will try to make use of the hardware. This is a good place to start until you have a very thorough understanding of your problem. After that, you can look into:\n",
        "\n",
        "tf.distribute.Strategy - **use multiple GPUs** <br/>\n",
        "tf.distribute.Strategy - **use multiple NODEs**\n",
        "\n",
        "## Pytorch\n",
        "DataParallel - **multiple GPUs**\n",
        "torch.distributed - **multiple nodes**\n",
        "\n",
        "### Horovod\n",
        "Another framework for running Tensorflow or Pytorch over multiple nodes. \n",
        "\n",
        "```\n",
        " cp -r /home/dhp/public/deep_learning/horovad/use_8_gpus .\n",
        " cd use_8_gpus\n",
        " qsub pbs_run\n",
        "```\n",
        "\n",
        "\n",
        "\n",
        "\n",
        "\n",
        "\n",
        "\n",
        "\n"
      ]
    },
    {
      "cell_type": "code",
      "metadata": {
        "id": "X198k1ZX1Uix"
      },
      "source": [
        ""
      ],
      "execution_count": null,
      "outputs": []
    },
    {
      "cell_type": "markdown",
      "metadata": {
        "id": "iXhGOlyRltux"
      },
      "source": [
        "# Introduction to CoLab, NumPy, and SciPy\n",
        "### Benjamin Lynch, Ph.D.\n",
        "### Minnesota Supercomputing Institute (MSI)\n",
        "\n",
        "*z.umn.edu/colab-5980*\n",
        "\n",
        "Below is a brief introduction to Google CoLab, NumPy, and SciPy. Some examples below borrow material from http://z.umn.edu/msipython and https://github.com/gmonce/scikit-learn-book \n",
        "\n",
        "## Outline\n",
        "* First, we're going to look at a few features in Google CoLab.\n",
        "* Next, we'll look at some features of NumPy\n",
        "* Finally, we'll look at a couple features of SciPy"
      ]
    },
    {
      "cell_type": "markdown",
      "metadata": {
        "id": "gWztxB1yOd7r"
      },
      "source": [
        "# Google Colaboratory\n",
        "\n",
        "\n",
        "\n",
        "![alt text](https://s3.msi.umn.edu/blynch/public/csci_5980_colab_diagram.png)\n",
        "\n",
        "\n",
        "\n"
      ]
    },
    {
      "cell_type": "markdown",
      "metadata": {
        "id": "uV22oucuXk9H"
      },
      "source": [
        "We're going to focus on 2 evironments (CoLab and MSI). There are many others. You can run a Jupyter notebook on your own laptop or you can use other online environment like Microsoft Azure Notebooks https://notebooks.azure.com \n",
        "\n",
        "# Moving Files"
      ]
    },
    {
      "cell_type": "code",
      "metadata": {
        "id": "i4IUTm3l7reQ",
        "outputId": "bbf1a258-18eb-4170-b7ce-4d2374cda494",
        "colab": {
          "base_uri": "https://localhost:8080/",
          "height": 34
        }
      },
      "source": [
        "import warnings\n",
        "\n",
        "def fxn():\n",
        "    warnings.warn(\"deprecated\", DeprecationWarning)\n",
        "\n",
        "with warnings.catch_warnings():\n",
        "    warnings.simplefilter(\"ignore\")\n",
        "    fxn()\n",
        "\n",
        "from google.colab import drive\n",
        "drive.mount('/content/gdrive')\n"
      ],
      "execution_count": null,
      "outputs": [
        {
          "output_type": "stream",
          "text": [
            "Drive already mounted at /content/gdrive; to attempt to forcibly remount, call drive.mount(\"/content/gdrive\", force_remount=True).\n"
          ],
          "name": "stdout"
        }
      ]
    },
    {
      "cell_type": "code",
      "metadata": {
        "id": "l3NQfR5IVUBR",
        "outputId": "131110e4-041f-4100-fdfb-4487d4d892d5",
        "colab": {
          "base_uri": "https://localhost:8080/",
          "height": 153
        }
      },
      "source": [
        "!ls /content/gdrive/\n",
        "!ls \"/content/gdrive/Shared drives\""
      ],
      "execution_count": null,
      "outputs": [
        {
          "output_type": "stream",
          "text": [
            "'My Drive'  'Shared drives'\n",
            "'GEMS Project Management'\t\t\t     MSI-SCS\n",
            "'HIPAA HPC Project'\t\t\t\t     NSF-BDDL\n",
            "'ICIG Cloud Computing Use Case Listing & Tracking'   Openstack@MSI\n",
            "'Lemos, Julia - neural spiking data'\t\t     ROC_Data\n",
            " Lou_Updraft_Nanotubes\t\t\t\t     SLURM-2020\n",
            " MSI-HPCRFP-2020\t\t\t\t    'UMII MSI Lou UNet'\n",
            " MSI-HPCRFP-2021\n"
          ],
          "name": "stdout"
        }
      ]
    },
    {
      "cell_type": "markdown",
      "metadata": {
        "id": "j53fdk0EB15p"
      },
      "source": [
        "Now, lets create a file and put it in our GDrive to make sure it's working. "
      ]
    },
    {
      "cell_type": "code",
      "metadata": {
        "id": "BLgxoscbCV9e"
      },
      "source": [
        "!echo woo hoo > /tmp/test.txt\n",
        "!mkdir -p \"/content/gdrive/My Drive/csci-5980\"\n",
        "!cp /tmp/test.txt \"/content/gdrive/My Drive/csci-5980\""
      ],
      "execution_count": null,
      "outputs": []
    },
    {
      "cell_type": "markdown",
      "metadata": {
        "id": "tGrP3KraDH_r"
      },
      "source": [
        "Using this connection to GDrive, we can pull data into our colab instance. Another "
      ]
    },
    {
      "cell_type": "code",
      "metadata": {
        "id": "5TWcaV9vDdyZ",
        "outputId": "8648fc1c-aa3c-4a80-eeb6-a4fd8e3dc63f",
        "colab": {
          "base_uri": "https://localhost:8080/",
          "height": 204
        }
      },
      "source": [
        "!wget https://opendata.arcgis.com/datasets/38cfcfe07c2543ad869c8ee8c8378b5e_0.csv"
      ],
      "execution_count": null,
      "outputs": [
        {
          "output_type": "stream",
          "text": [
            "--2020-10-06 00:23:21--  https://opendata.arcgis.com/datasets/38cfcfe07c2543ad869c8ee8c8378b5e_0.csv\n",
            "Resolving opendata.arcgis.com (opendata.arcgis.com)... 35.170.42.12, 52.206.83.96, 54.211.253.79, ...\n",
            "Connecting to opendata.arcgis.com (opendata.arcgis.com)|35.170.42.12|:443... connected.\n",
            "HTTP request sent, awaiting response... 200 OK\n",
            "Length: unspecified [text/csv]\n",
            "Saving to: ‘38cfcfe07c2543ad869c8ee8c8378b5e_0.csv’\n",
            "\n",
            "38cfcfe07c2543ad869     [    <=>             ]  16.96M  21.9MB/s    in 0.8s    \n",
            "\n",
            "2020-10-06 00:23:22 (21.9 MB/s) - ‘38cfcfe07c2543ad869c8ee8c8378b5e_0.csv’ saved [17786751]\n",
            "\n"
          ],
          "name": "stdout"
        }
      ]
    },
    {
      "cell_type": "markdown",
      "metadata": {
        "id": "UaRSdzPfIZqV"
      },
      "source": [
        "now lets open it"
      ]
    },
    {
      "cell_type": "code",
      "metadata": {
        "id": "w3W5EpiCIfzc",
        "outputId": "f7ae9e5e-9ffc-4a31-ffda-b28f2e97cf51",
        "colab": {
          "base_uri": "https://localhost:8080/",
          "height": 589
        }
      },
      "source": [
        "import pandas as pd\n",
        "pd.read_csv('38cfcfe07c2543ad869c8ee8c8378b5e_0.csv') "
      ],
      "execution_count": null,
      "outputs": [
        {
          "output_type": "execute_result",
          "data": {
            "text/html": [
              "<div>\n",
              "<style scoped>\n",
              "    .dataframe tbody tr th:only-of-type {\n",
              "        vertical-align: middle;\n",
              "    }\n",
              "\n",
              "    .dataframe tbody tr th {\n",
              "        vertical-align: top;\n",
              "    }\n",
              "\n",
              "    .dataframe thead th {\n",
              "        text-align: right;\n",
              "    }\n",
              "</style>\n",
              "<table border=\"1\" class=\"dataframe\">\n",
              "  <thead>\n",
              "    <tr style=\"text-align: right;\">\n",
              "      <th></th>\n",
              "      <th>FID</th>\n",
              "      <th>TripID</th>\n",
              "      <th>TripDuration</th>\n",
              "      <th>TripDistance</th>\n",
              "      <th>StartTime</th>\n",
              "      <th>EndTime</th>\n",
              "      <th>StartCenterlineID</th>\n",
              "      <th>StartCenterlineType</th>\n",
              "      <th>EndCenterlineID</th>\n",
              "      <th>EndCenterlineType</th>\n",
              "    </tr>\n",
              "  </thead>\n",
              "  <tbody>\n",
              "    <tr>\n",
              "      <th>0</th>\n",
              "      <td>1</td>\n",
              "      <td>176380</td>\n",
              "      <td>81</td>\n",
              "      <td>342</td>\n",
              "      <td>2019/07/01 12:30:00</td>\n",
              "      <td>2019/07/01 12:30:00</td>\n",
              "      <td>21934.00</td>\n",
              "      <td>street</td>\n",
              "      <td>17051.00</td>\n",
              "      <td>street</td>\n",
              "    </tr>\n",
              "    <tr>\n",
              "      <th>1</th>\n",
              "      <td>2</td>\n",
              "      <td>176385</td>\n",
              "      <td>378</td>\n",
              "      <td>1245</td>\n",
              "      <td>2019/07/01 12:30:00</td>\n",
              "      <td>2019/07/01 12:30:00</td>\n",
              "      <td>17431.00</td>\n",
              "      <td>street</td>\n",
              "      <td>25845.00</td>\n",
              "      <td>street</td>\n",
              "    </tr>\n",
              "    <tr>\n",
              "      <th>2</th>\n",
              "      <td>3</td>\n",
              "      <td>176386</td>\n",
              "      <td>523</td>\n",
              "      <td>1820</td>\n",
              "      <td>2019/07/01 12:30:00</td>\n",
              "      <td>2019/07/01 12:30:00</td>\n",
              "      <td>5EEDCBB2-B574-42F3-9914-181161C0B838</td>\n",
              "      <td>trail</td>\n",
              "      <td>17115.00</td>\n",
              "      <td>street</td>\n",
              "    </tr>\n",
              "    <tr>\n",
              "      <th>3</th>\n",
              "      <td>4</td>\n",
              "      <td>176400</td>\n",
              "      <td>1008</td>\n",
              "      <td>1922</td>\n",
              "      <td>2019/07/01 12:30:00</td>\n",
              "      <td>2019/07/01 12:59:59</td>\n",
              "      <td>25655.00</td>\n",
              "      <td>street</td>\n",
              "      <td>16713.00</td>\n",
              "      <td>street</td>\n",
              "    </tr>\n",
              "    <tr>\n",
              "      <th>4</th>\n",
              "      <td>5</td>\n",
              "      <td>176372</td>\n",
              "      <td>416</td>\n",
              "      <td>520</td>\n",
              "      <td>2019/07/01 12:30:00</td>\n",
              "      <td>2019/07/01 12:30:00</td>\n",
              "      <td>18408.00</td>\n",
              "      <td>street</td>\n",
              "      <td>16946.00</td>\n",
              "      <td>street</td>\n",
              "    </tr>\n",
              "    <tr>\n",
              "      <th>...</th>\n",
              "      <td>...</td>\n",
              "      <td>...</td>\n",
              "      <td>...</td>\n",
              "      <td>...</td>\n",
              "      <td>...</td>\n",
              "      <td>...</td>\n",
              "      <td>...</td>\n",
              "      <td>...</td>\n",
              "      <td>...</td>\n",
              "      <td>...</td>\n",
              "    </tr>\n",
              "    <tr>\n",
              "      <th>176271</th>\n",
              "      <td>176272</td>\n",
              "      <td>367611</td>\n",
              "      <td>1500</td>\n",
              "      <td>34</td>\n",
              "      <td>2019/08/01 02:29:59</td>\n",
              "      <td>2019/08/01 03:00:00</td>\n",
              "      <td>22647.00</td>\n",
              "      <td>street</td>\n",
              "      <td>22665.00</td>\n",
              "      <td>street</td>\n",
              "    </tr>\n",
              "    <tr>\n",
              "      <th>176272</th>\n",
              "      <td>176273</td>\n",
              "      <td>344599</td>\n",
              "      <td>651</td>\n",
              "      <td>2543</td>\n",
              "      <td>2019/08/01 02:29:59</td>\n",
              "      <td>2019/08/01 02:29:59</td>\n",
              "      <td>18617.00</td>\n",
              "      <td>street</td>\n",
              "      <td>17113.00</td>\n",
              "      <td>street</td>\n",
              "    </tr>\n",
              "    <tr>\n",
              "      <th>176273</th>\n",
              "      <td>176274</td>\n",
              "      <td>344603</td>\n",
              "      <td>1272</td>\n",
              "      <td>4964</td>\n",
              "      <td>2019/08/01 02:29:59</td>\n",
              "      <td>2019/08/01 02:29:59</td>\n",
              "      <td>16747.00</td>\n",
              "      <td>street</td>\n",
              "      <td>16909.00</td>\n",
              "      <td>street</td>\n",
              "    </tr>\n",
              "    <tr>\n",
              "      <th>176274</th>\n",
              "      <td>176275</td>\n",
              "      <td>344611</td>\n",
              "      <td>560</td>\n",
              "      <td>1651</td>\n",
              "      <td>2019/08/01 02:29:59</td>\n",
              "      <td>2019/08/01 02:29:59</td>\n",
              "      <td>17060674-6629-4E3A-B1DF-12D05E67E5D8</td>\n",
              "      <td>trail</td>\n",
              "      <td>17060674-6629-4E3A-B1DF-12D05E67E5D8</td>\n",
              "      <td>trail</td>\n",
              "    </tr>\n",
              "    <tr>\n",
              "      <th>176275</th>\n",
              "      <td>176276</td>\n",
              "      <td>344615</td>\n",
              "      <td>1135</td>\n",
              "      <td>2574</td>\n",
              "      <td>2019/08/01 02:29:59</td>\n",
              "      <td>2019/08/01 02:29:59</td>\n",
              "      <td>10318.00</td>\n",
              "      <td>street</td>\n",
              "      <td>16600.00</td>\n",
              "      <td>street</td>\n",
              "    </tr>\n",
              "  </tbody>\n",
              "</table>\n",
              "<p>176276 rows × 10 columns</p>\n",
              "</div>"
            ],
            "text/plain": [
              "           FID  TripID  ...                       EndCenterlineID  EndCenterlineType\n",
              "0            1  176380  ...                              17051.00             street\n",
              "1            2  176385  ...                              25845.00             street\n",
              "2            3  176386  ...                              17115.00             street\n",
              "3            4  176400  ...                              16713.00             street\n",
              "4            5  176372  ...                              16946.00             street\n",
              "...        ...     ...  ...                                   ...                ...\n",
              "176271  176272  367611  ...                              22665.00             street\n",
              "176272  176273  344599  ...                              17113.00             street\n",
              "176273  176274  344603  ...                              16909.00             street\n",
              "176274  176275  344611  ...  17060674-6629-4E3A-B1DF-12D05E67E5D8              trail\n",
              "176275  176276  344615  ...                              16600.00             street\n",
              "\n",
              "[176276 rows x 10 columns]"
            ]
          },
          "metadata": {
            "tags": []
          },
          "execution_count": 9
        }
      ]
    },
    {
      "cell_type": "markdown",
      "metadata": {
        "id": "uPNG_ACcQoDz"
      },
      "source": [
        "Lets try another method for getting data to our colab instance"
      ]
    },
    {
      "cell_type": "code",
      "metadata": {
        "id": "3GSaJtIiQmbB"
      },
      "source": [
        "from google.colab import files "
      ],
      "execution_count": null,
      "outputs": []
    },
    {
      "cell_type": "code",
      "metadata": {
        "id": "Nf-zff2mRMMk",
        "outputId": "170811df-6b7e-4207-8f6c-8125df0819d8",
        "colab": {
          "resources": {
            "http://localhost:8080/nbextensions/google.colab/files.js": {
              "data": "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",
              "ok": true,
              "headers": [
                [
                  "content-type",
                  "application/javascript"
                ]
              ],
              "status": 200,
              "status_text": ""
            }
          },
          "base_uri": "https://localhost:8080/",
          "height": 72
        }
      },
      "source": [
        "uploaded = files.upload() "
      ],
      "execution_count": null,
      "outputs": [
        {
          "output_type": "display_data",
          "data": {
            "text/html": [
              "\n",
              "     <input type=\"file\" id=\"files-97414e96-290e-46fd-8550-526f3809c8bd\" name=\"files[]\" multiple disabled\n",
              "        style=\"border:none\" />\n",
              "     <output id=\"result-97414e96-290e-46fd-8550-526f3809c8bd\">\n",
              "      Upload widget is only available when the cell has been executed in the\n",
              "      current browser session. Please rerun this cell to enable.\n",
              "      </output>\n",
              "      <script src=\"/nbextensions/google.colab/files.js\"></script> "
            ],
            "text/plain": [
              "<IPython.core.display.HTML object>"
            ]
          },
          "metadata": {
            "tags": []
          }
        },
        {
          "output_type": "stream",
          "text": [
            "Saving Original-Joan-Miro-Signed-Limited-Edition.jpg to Original-Joan-Miro-Signed-Limited-Edition.jpg\n"
          ],
          "name": "stdout"
        }
      ]
    },
    {
      "cell_type": "markdown",
      "metadata": {
        "id": "yWZnUGQZVT4B"
      },
      "source": [
        "![alt text](https://blynch.s3.msi.umn.edu/public/csci_5980_1_1.png)"
      ]
    },
    {
      "cell_type": "markdown",
      "metadata": {
        "id": "5fXbkZGycu7x"
      },
      "source": [
        "![alt text](https://blynch.s3.msi.umn.edu/public/csci_5980_1_2.png)"
      ]
    },
    {
      "cell_type": "markdown",
      "metadata": {
        "id": "L_dwMThgcvIq"
      },
      "source": [
        "![alt text](https://blynch.s3.msi.umn.edu/public/csci_5980_1_3.png)"
      ]
    },
    {
      "cell_type": "markdown",
      "metadata": {
        "id": "L_uGvZbz-8oD"
      },
      "source": [
        "If our instance is running on a GPU, we can take a peek at what hardware we have."
      ]
    },
    {
      "cell_type": "code",
      "metadata": {
        "id": "YAuXmWiMbJ8Q",
        "outputId": "ccdc1c20-cafe-495e-ea9e-1a01fcc1ff6d",
        "colab": {
          "base_uri": "https://localhost:8080/",
          "height": 357
        }
      },
      "source": [
        "!nvidia-smi"
      ],
      "execution_count": null,
      "outputs": [
        {
          "output_type": "stream",
          "text": [
            "Tue Oct  6 00:28:32 2020       \n",
            "+-----------------------------------------------------------------------------+\n",
            "| NVIDIA-SMI 455.23.05    Driver Version: 418.67       CUDA Version: 10.1     |\n",
            "|-------------------------------+----------------------+----------------------+\n",
            "| GPU  Name        Persistence-M| Bus-Id        Disp.A | Volatile Uncorr. ECC |\n",
            "| Fan  Temp  Perf  Pwr:Usage/Cap|         Memory-Usage | GPU-Util  Compute M. |\n",
            "|                               |                      |               MIG M. |\n",
            "|===============================+======================+======================|\n",
            "|   0  Tesla T4            Off  | 00000000:00:04.0 Off |                    0 |\n",
            "| N/A   70C    P0    33W /  70W |    291MiB / 15079MiB |      0%      Default |\n",
            "|                               |                      |                 ERR! |\n",
            "+-------------------------------+----------------------+----------------------+\n",
            "                                                                               \n",
            "+-----------------------------------------------------------------------------+\n",
            "| Processes:                                                                  |\n",
            "|  GPU   GI   CI        PID   Type   Process name                  GPU Memory |\n",
            "|        ID   ID                                                   Usage      |\n",
            "|=============================================================================|\n",
            "|  No running processes found                                                 |\n",
            "+-----------------------------------------------------------------------------+\n"
          ],
          "name": "stdout"
        }
      ]
    },
    {
      "cell_type": "markdown",
      "metadata": {
        "id": "N2jpES7WdHVm"
      },
      "source": [
        "You can download your notebook from File -> Download .ipynb\n",
        "\n",
        "![alt text](https://blynch.s3.msi.umn.edu/public/csci_5980_1_4.png)\n",
        "\n",
        "This might be the easiest way to copy your notebook and move it to another platform. In addition to downloading the notebook, you can download data that you generate. E.g.;"
      ]
    },
    {
      "cell_type": "code",
      "metadata": {
        "id": "Df0F-PXt9LXx",
        "outputId": "b61307bb-8f38-4e94-c037-948cb2b8bc59",
        "colab": {
          "base_uri": "https://localhost:8080/",
          "height": 68
        }
      },
      "source": [
        "!ls"
      ],
      "execution_count": null,
      "outputs": [
        {
          "output_type": "stream",
          "text": [
            "38cfcfe07c2543ad869c8ee8c8378b5e_0.csv\t       sample_data\n",
            "gdrive\t\t\t\t\t       scratch\n",
            "Original-Joan-Miro-Signed-Limited-Edition.jpg\n"
          ],
          "name": "stdout"
        }
      ]
    },
    {
      "cell_type": "code",
      "metadata": {
        "id": "3_pziJCEgNfP",
        "outputId": "f30c5841-78b3-43d3-e524-ea6d70887df5",
        "colab": {
          "base_uri": "https://localhost:8080/",
          "height": 17
        }
      },
      "source": [
        "from google.colab import files\n",
        "files.download('Original-Joan-Miro-Signed-Limited-Edition.jpg')"
      ],
      "execution_count": null,
      "outputs": [
        {
          "output_type": "display_data",
          "data": {
            "application/javascript": [
              "\n",
              "    async function download(id, filename, size) {\n",
              "      if (!google.colab.kernel.accessAllowed) {\n",
              "        return;\n",
              "      }\n",
              "      const div = document.createElement('div');\n",
              "      const label = document.createElement('label');\n",
              "      label.textContent = `Downloading \"${filename}\": `;\n",
              "      div.appendChild(label);\n",
              "      const progress = document.createElement('progress');\n",
              "      progress.max = size;\n",
              "      div.appendChild(progress);\n",
              "      document.body.appendChild(div);\n",
              "\n",
              "      const buffers = [];\n",
              "      let downloaded = 0;\n",
              "\n",
              "      const channel = await google.colab.kernel.comms.open(id);\n",
              "      // Send a message to notify the kernel that we're ready.\n",
              "      channel.send({})\n",
              "\n",
              "      for await (const message of channel.messages) {\n",
              "        // Send a message to notify the kernel that we're ready.\n",
              "        channel.send({})\n",
              "        if (message.buffers) {\n",
              "          for (const buffer of message.buffers) {\n",
              "            buffers.push(buffer);\n",
              "            downloaded += buffer.byteLength;\n",
              "            progress.value = downloaded;\n",
              "          }\n",
              "        }\n",
              "      }\n",
              "      const blob = new Blob(buffers, {type: 'application/binary'});\n",
              "      const a = document.createElement('a');\n",
              "      a.href = window.URL.createObjectURL(blob);\n",
              "      a.download = filename;\n",
              "      div.appendChild(a);\n",
              "      a.click();\n",
              "      div.remove();\n",
              "    }\n",
              "  "
            ],
            "text/plain": [
              "<IPython.core.display.Javascript object>"
            ]
          },
          "metadata": {
            "tags": []
          }
        },
        {
          "output_type": "display_data",
          "data": {
            "application/javascript": [
              "download(\"download_3f59f3a8-7d0a-47b2-8bad-5bdff3e52751\", \"Original-Joan-Miro-Signed-Limited-Edition.jpg\", 326691)"
            ],
            "text/plain": [
              "<IPython.core.display.Javascript object>"
            ]
          },
          "metadata": {
            "tags": []
          }
        }
      ]
    },
    {
      "cell_type": "code",
      "metadata": {
        "id": "RA1krrZVlhVO",
        "outputId": "96b3567a-4fe8-4819-f748-89a6bb8918ca",
        "colab": {
          "base_uri": "https://localhost:8080/",
          "height": 119
        }
      },
      "source": [
        "!ls -l "
      ],
      "execution_count": null,
      "outputs": [
        {
          "output_type": "stream",
          "text": [
            "total 17704\n",
            "-rw-r--r-- 1 root root 17786751 May  2 17:10 38cfcfe07c2543ad869c8ee8c8378b5e_0.csv\n",
            "drwx------ 5 root root     4096 Oct  6 00:11 gdrive\n",
            "-rw-r--r-- 1 root root   326691 Oct  6 00:25 Original-Joan-Miro-Signed-Limited-Edition.jpg\n",
            "drwxr-xr-x 1 root root     4096 Oct  1 16:28 sample_data\n",
            "drwxr-xr-x 2 root root     4096 Oct  6 00:10 scratch\n"
          ],
          "name": "stdout"
        }
      ]
    },
    {
      "cell_type": "markdown",
      "metadata": {
        "id": "fHmJ9S4OVuto"
      },
      "source": [
        "\n",
        "Introduction to NumPy\n",
        "NumPy Arrays\n",
        "NumPy (module numpy) provides an array datatype with vectorized operations (similar to Matlab or IDL)\n",
        "\n",
        "\n"
      ]
    },
    {
      "cell_type": "code",
      "metadata": {
        "id": "s8wX3tJu9bzr",
        "outputId": "9de75e49-ef82-467c-d257-a961d92399f4",
        "colab": {
          "base_uri": "https://localhost:8080/",
          "height": 666
        }
      },
      "source": [
        "!pip install tensorflow"
      ],
      "execution_count": null,
      "outputs": [
        {
          "output_type": "stream",
          "text": [
            "Requirement already satisfied: tensorflow in /usr/local/lib/python3.6/dist-packages (2.3.0)\n",
            "Requirement already satisfied: numpy<1.19.0,>=1.16.0 in /usr/local/lib/python3.6/dist-packages (from tensorflow) (1.18.5)\n",
            "Requirement already satisfied: absl-py>=0.7.0 in /usr/local/lib/python3.6/dist-packages (from tensorflow) (0.10.0)\n",
            "Requirement already satisfied: wheel>=0.26 in /usr/local/lib/python3.6/dist-packages (from tensorflow) (0.35.1)\n",
            "Requirement already satisfied: scipy==1.4.1 in /usr/local/lib/python3.6/dist-packages (from tensorflow) (1.4.1)\n",
            "Requirement already satisfied: astunparse==1.6.3 in /usr/local/lib/python3.6/dist-packages (from tensorflow) (1.6.3)\n",
            "Requirement already satisfied: google-pasta>=0.1.8 in /usr/local/lib/python3.6/dist-packages (from tensorflow) (0.2.0)\n",
            "Requirement already satisfied: protobuf>=3.9.2 in /usr/local/lib/python3.6/dist-packages (from tensorflow) (3.12.4)\n",
            "Requirement already satisfied: gast==0.3.3 in /usr/local/lib/python3.6/dist-packages (from tensorflow) (0.3.3)\n",
            "Requirement already satisfied: opt-einsum>=2.3.2 in /usr/local/lib/python3.6/dist-packages (from tensorflow) (3.3.0)\n",
            "Requirement already satisfied: tensorboard<3,>=2.3.0 in /usr/local/lib/python3.6/dist-packages (from tensorflow) (2.3.0)\n",
            "Requirement already satisfied: keras-preprocessing<1.2,>=1.1.1 in /usr/local/lib/python3.6/dist-packages (from tensorflow) (1.1.2)\n",
            "Requirement already satisfied: tensorflow-estimator<2.4.0,>=2.3.0 in /usr/local/lib/python3.6/dist-packages (from tensorflow) (2.3.0)\n",
            "Requirement already satisfied: h5py<2.11.0,>=2.10.0 in /usr/local/lib/python3.6/dist-packages (from tensorflow) (2.10.0)\n",
            "Requirement already satisfied: grpcio>=1.8.6 in /usr/local/lib/python3.6/dist-packages (from tensorflow) (1.32.0)\n",
            "Requirement already satisfied: six>=1.12.0 in /usr/local/lib/python3.6/dist-packages (from tensorflow) (1.15.0)\n",
            "Requirement already satisfied: termcolor>=1.1.0 in /usr/local/lib/python3.6/dist-packages (from tensorflow) (1.1.0)\n",
            "Requirement already satisfied: wrapt>=1.11.1 in /usr/local/lib/python3.6/dist-packages (from tensorflow) (1.12.1)\n",
            "Requirement already satisfied: setuptools in /usr/local/lib/python3.6/dist-packages (from protobuf>=3.9.2->tensorflow) (50.3.0)\n",
            "Requirement already satisfied: markdown>=2.6.8 in /usr/local/lib/python3.6/dist-packages (from tensorboard<3,>=2.3.0->tensorflow) (3.2.2)\n",
            "Requirement already satisfied: tensorboard-plugin-wit>=1.6.0 in /usr/local/lib/python3.6/dist-packages (from tensorboard<3,>=2.3.0->tensorflow) (1.7.0)\n",
            "Requirement already satisfied: requests<3,>=2.21.0 in /usr/local/lib/python3.6/dist-packages (from tensorboard<3,>=2.3.0->tensorflow) (2.23.0)\n",
            "Requirement already satisfied: google-auth-oauthlib<0.5,>=0.4.1 in /usr/local/lib/python3.6/dist-packages (from tensorboard<3,>=2.3.0->tensorflow) (0.4.1)\n",
            "Requirement already satisfied: google-auth<2,>=1.6.3 in /usr/local/lib/python3.6/dist-packages (from tensorboard<3,>=2.3.0->tensorflow) (1.17.2)\n",
            "Requirement already satisfied: werkzeug>=0.11.15 in /usr/local/lib/python3.6/dist-packages (from tensorboard<3,>=2.3.0->tensorflow) (1.0.1)\n",
            "Requirement already satisfied: importlib-metadata; python_version < \"3.8\" in /usr/local/lib/python3.6/dist-packages (from markdown>=2.6.8->tensorboard<3,>=2.3.0->tensorflow) (2.0.0)\n",
            "Requirement already satisfied: chardet<4,>=3.0.2 in /usr/local/lib/python3.6/dist-packages (from requests<3,>=2.21.0->tensorboard<3,>=2.3.0->tensorflow) (3.0.4)\n",
            "Requirement already satisfied: certifi>=2017.4.17 in /usr/local/lib/python3.6/dist-packages (from requests<3,>=2.21.0->tensorboard<3,>=2.3.0->tensorflow) (2020.6.20)\n",
            "Requirement already satisfied: idna<3,>=2.5 in /usr/local/lib/python3.6/dist-packages (from requests<3,>=2.21.0->tensorboard<3,>=2.3.0->tensorflow) (2.10)\n",
            "Requirement already satisfied: urllib3!=1.25.0,!=1.25.1,<1.26,>=1.21.1 in /usr/local/lib/python3.6/dist-packages (from requests<3,>=2.21.0->tensorboard<3,>=2.3.0->tensorflow) (1.24.3)\n",
            "Requirement already satisfied: requests-oauthlib>=0.7.0 in /usr/local/lib/python3.6/dist-packages (from google-auth-oauthlib<0.5,>=0.4.1->tensorboard<3,>=2.3.0->tensorflow) (1.3.0)\n",
            "Requirement already satisfied: cachetools<5.0,>=2.0.0 in /usr/local/lib/python3.6/dist-packages (from google-auth<2,>=1.6.3->tensorboard<3,>=2.3.0->tensorflow) (4.1.1)\n",
            "Requirement already satisfied: rsa<5,>=3.1.4; python_version >= \"3\" in /usr/local/lib/python3.6/dist-packages (from google-auth<2,>=1.6.3->tensorboard<3,>=2.3.0->tensorflow) (4.6)\n",
            "Requirement already satisfied: pyasn1-modules>=0.2.1 in /usr/local/lib/python3.6/dist-packages (from google-auth<2,>=1.6.3->tensorboard<3,>=2.3.0->tensorflow) (0.2.8)\n",
            "Requirement already satisfied: zipp>=0.5 in /usr/local/lib/python3.6/dist-packages (from importlib-metadata; python_version < \"3.8\"->markdown>=2.6.8->tensorboard<3,>=2.3.0->tensorflow) (3.2.0)\n",
            "Requirement already satisfied: oauthlib>=3.0.0 in /usr/local/lib/python3.6/dist-packages (from requests-oauthlib>=0.7.0->google-auth-oauthlib<0.5,>=0.4.1->tensorboard<3,>=2.3.0->tensorflow) (3.1.0)\n",
            "Requirement already satisfied: pyasn1>=0.1.3 in /usr/local/lib/python3.6/dist-packages (from rsa<5,>=3.1.4; python_version >= \"3\"->google-auth<2,>=1.6.3->tensorboard<3,>=2.3.0->tensorflow) (0.4.8)\n"
          ],
          "name": "stdout"
        }
      ]
    },
    {
      "cell_type": "code",
      "metadata": {
        "id": "_Ls6P1mu4mf5"
      },
      "source": [
        "\n",
        "import numpy as np"
      ],
      "execution_count": null,
      "outputs": []
    },
    {
      "cell_type": "markdown",
      "metadata": {
        "id": "IV_71prP4pdB"
      },
      "source": [
        "Create two NumPy arrays containing 5 elements each. The numpy module contains a number of functions for generating common arrays:\n"
      ]
    },
    {
      "cell_type": "code",
      "metadata": {
        "id": "R01dSWEx4ri1",
        "outputId": "b1cac271-2df5-424e-d193-ccb4edaf45f5",
        "colab": {
          "base_uri": "https://localhost:8080/",
          "height": 34
        }
      },
      "source": [
        "x = np.arange(5)\n",
        "x\n"
      ],
      "execution_count": null,
      "outputs": [
        {
          "output_type": "execute_result",
          "data": {
            "text/plain": [
              "array([0, 1, 2, 3, 4])"
            ]
          },
          "metadata": {
            "tags": []
          },
          "execution_count": 18
        }
      ]
    },
    {
      "cell_type": "code",
      "metadata": {
        "id": "YAmf4uyu42D3",
        "outputId": "f9138dc5-dc3c-43c5-9487-c8df1584dbf7",
        "colab": {
          "base_uri": "https://localhost:8080/",
          "height": 34
        }
      },
      "source": [
        "y = np.ones(5)\n",
        "y"
      ],
      "execution_count": null,
      "outputs": [
        {
          "output_type": "execute_result",
          "data": {
            "text/plain": [
              "array([1., 1., 1., 1., 1.])"
            ]
          },
          "metadata": {
            "tags": []
          },
          "execution_count": 19
        }
      ]
    },
    {
      "cell_type": "markdown",
      "metadata": {
        "id": "6MllfPBX45A4"
      },
      "source": [
        "Operations are vectorized, so we can do arithmetic with arrays (as long as the dimensions match!) as we would with scalar variables.\n",
        "\n"
      ]
    },
    {
      "cell_type": "code",
      "metadata": {
        "id": "TjqHoF925D6_",
        "outputId": "36d86efb-8887-4836-b28c-2347816e9a73",
        "colab": {
          "base_uri": "https://localhost:8080/",
          "height": 34
        }
      },
      "source": [
        "x - (y+0.005) * 3\n"
      ],
      "execution_count": null,
      "outputs": [
        {
          "output_type": "execute_result",
          "data": {
            "text/plain": [
              "array([-3.015, -2.015, -1.015, -0.015,  0.985])"
            ]
          },
          "metadata": {
            "tags": []
          },
          "execution_count": 20
        }
      ]
    },
    {
      "cell_type": "markdown",
      "metadata": {
        "id": "OxMNjtHP5Fvk"
      },
      "source": [
        "You can try to put different types of objects into an array, and NumPy will pick a data type that can hold them all.\n",
        "\n",
        "The results might not be quite what you expect!"
      ]
    },
    {
      "cell_type": "code",
      "metadata": {
        "id": "HGliLBS45IMX",
        "outputId": "64dc26e3-3588-4b21-d19b-966ab8d5a784",
        "colab": {
          "base_uri": "https://localhost:8080/",
          "height": 34
        }
      },
      "source": [
        "mixed = np.array([3,3.3e-10,\"string\",5,5])\n",
        "mixed\n"
      ],
      "execution_count": null,
      "outputs": [
        {
          "output_type": "execute_result",
          "data": {
            "text/plain": [
              "array(['3', '3.3e-10', 'string', '5', '5'], dtype='<U32')"
            ]
          },
          "metadata": {
            "tags": []
          },
          "execution_count": 21
        }
      ]
    },
    {
      "cell_type": "code",
      "metadata": {
        "id": "yv-J5XpC5MhT"
      },
      "source": [
        "mixed*5"
      ],
      "execution_count": null,
      "outputs": []
    },
    {
      "cell_type": "markdown",
      "metadata": {
        "id": "Nv4eAhUA5PbH"
      },
      "source": [
        "More sensibly, it will choose types to avoid losing precision.\n"
      ]
    },
    {
      "cell_type": "code",
      "metadata": {
        "id": "z3TLK_J_8oc4",
        "outputId": "de42fc09-9083-4f93-f384-ce113545bb6d",
        "colab": {
          "base_uri": "https://localhost:8080/",
          "height": 51
        }
      },
      "source": [
        "z = np.array([5,6.66666666666,7,8,9],dtype=np.float32)\n",
        "np.set_printoptions(precision=12)\n",
        "print(z)\n",
        "z.dtype"
      ],
      "execution_count": null,
      "outputs": [
        {
          "output_type": "stream",
          "text": [
            "[5.        6.6666665 7.        8.        9.       ]\n"
          ],
          "name": "stdout"
        },
        {
          "output_type": "execute_result",
          "data": {
            "text/plain": [
              "dtype('float32')"
            ]
          },
          "metadata": {
            "tags": []
          },
          "execution_count": 22
        }
      ]
    },
    {
      "cell_type": "markdown",
      "metadata": {
        "id": "lkUdye5V8sde"
      },
      "source": [
        "Supports the same type of list operations as ordinary Python lists:\n"
      ]
    },
    {
      "cell_type": "code",
      "metadata": {
        "id": "MMAm2QxI8yHR",
        "outputId": "a0f3dcc6-2516-4658-a808-cd04d05c2fde",
        "colab": {
          "base_uri": "https://localhost:8080/",
          "height": 34
        }
      },
      "source": [
        "sorted(x - y * 3)\n"
      ],
      "execution_count": null,
      "outputs": [
        {
          "output_type": "execute_result",
          "data": {
            "text/plain": [
              "[-3.0, -2.0, -1.0, 0.0, 1.0]"
            ]
          },
          "metadata": {
            "tags": []
          },
          "execution_count": 23
        }
      ]
    },
    {
      "cell_type": "markdown",
      "metadata": {
        "id": "7fxw90sa9O71"
      },
      "source": [
        "...except the data type must match! A NumPy array only holds values of a single data type.\n",
        "\n",
        "This allows them to be packed efficiently in memory like C arrays"
      ]
    },
    {
      "cell_type": "code",
      "metadata": {
        "id": "pK5QbB9-9Sbf",
        "outputId": "fe0eadb0-8d30-4e04-e7bd-bb9ac85d6f3a",
        "colab": {
          "base_uri": "https://localhost:8080/",
          "height": 34
        }
      },
      "source": [
        "y.dtype"
      ],
      "execution_count": null,
      "outputs": [
        {
          "output_type": "execute_result",
          "data": {
            "text/plain": [
              "dtype('float64')"
            ]
          },
          "metadata": {
            "tags": []
          },
          "execution_count": 24
        }
      ]
    },
    {
      "cell_type": "markdown",
      "metadata": {
        "id": "3RUaCBXy9VSC"
      },
      "source": [
        "Speed comparison\n",
        "Math with NumPy arrays is much faster and more intuitive than the equivalent native Python operations\n",
        "\n",
        "Consider the function $y = 1.324\\cdot a - 12.99\\cdot b + 1$\n",
        "In pure Python we would define:\n",
        "\n",
        "\n"
      ]
    },
    {
      "cell_type": "code",
      "metadata": {
        "id": "ga6QAmhx-Tm4"
      },
      "source": [
        "def py_add(a, b):\n",
        "    assert(len(a) == len(b))\n",
        "    c = [0]*len(a)\n",
        "    for i in range(0,len(a)):\n",
        "        c[i] = 1.324 * a[i] - 12.99*b[i] + 1\n",
        "    return c"
      ],
      "execution_count": null,
      "outputs": []
    },
    {
      "cell_type": "markdown",
      "metadata": {
        "id": "qj2YAvrm-X5M"
      },
      "source": [
        "Using NumPy we could instead define:"
      ]
    },
    {
      "cell_type": "code",
      "metadata": {
        "id": "y2zX0nZu9wwu"
      },
      "source": [
        "def np_add(a, b):\n",
        "    return 1.324 * a - 12.99 * b + 1"
      ],
      "execution_count": null,
      "outputs": []
    },
    {
      "cell_type": "markdown",
      "metadata": {
        "id": "kmDJHNoX90Jh"
      },
      "source": [
        "Now let's create a couple of very large arrays to work with:\n"
      ]
    },
    {
      "cell_type": "code",
      "metadata": {
        "id": "4yAwTcWL93GQ"
      },
      "source": [
        "a = np.arange(1000000)\n",
        "b = np.random.randn(1000000)\n"
      ],
      "execution_count": null,
      "outputs": []
    },
    {
      "cell_type": "code",
      "metadata": {
        "id": "4dnVA_rt9-03",
        "outputId": "ca381fc9-2740-45a0-944a-83a5c9a05205",
        "colab": {
          "base_uri": "https://localhost:8080/",
          "height": 34
        }
      },
      "source": [
        "len(a)"
      ],
      "execution_count": null,
      "outputs": [
        {
          "output_type": "execute_result",
          "data": {
            "text/plain": [
              "1000000"
            ]
          },
          "metadata": {
            "tags": []
          },
          "execution_count": 28
        }
      ]
    },
    {
      "cell_type": "code",
      "metadata": {
        "id": "3UwKwFId9--v",
        "outputId": "6078d6ae-333a-4fa6-e84f-ac2a140e8b83",
        "colab": {
          "base_uri": "https://localhost:8080/",
          "height": 102
        }
      },
      "source": [
        "b[0:20]"
      ],
      "execution_count": null,
      "outputs": [
        {
          "output_type": "execute_result",
          "data": {
            "text/plain": [
              "array([-1.398727703077,  1.084642630032, -1.799755983903, -0.712794935552,\n",
              "       -1.832392540217, -0.63605861833 , -1.066475940205,  0.602697742284,\n",
              "       -1.052688703696, -0.793466368897,  1.117019032267, -0.795582035462,\n",
              "       -0.175777587274,  1.627483185996,  1.457887830004,  0.051765769873,\n",
              "       -0.683642298675,  0.890385905144,  1.366164475088, -1.843019853554])"
            ]
          },
          "metadata": {
            "tags": []
          },
          "execution_count": 29
        }
      ]
    },
    {
      "cell_type": "markdown",
      "metadata": {
        "id": "gs-1HX33gSzC"
      },
      "source": [
        "Use the magic function %timeit to test the performance of both approaches.\n"
      ]
    },
    {
      "cell_type": "code",
      "metadata": {
        "id": "fRuupSz9-Fyd",
        "outputId": "3527cc21-e99d-41a6-a659-f217c23de6d1",
        "colab": {
          "base_uri": "https://localhost:8080/",
          "height": 34
        }
      },
      "source": [
        "%timeit py_add(a,b)\n"
      ],
      "execution_count": null,
      "outputs": [
        {
          "output_type": "stream",
          "text": [
            "1 loop, best of 3: 2.64 s per loop\n"
          ],
          "name": "stdout"
        }
      ]
    },
    {
      "cell_type": "code",
      "metadata": {
        "id": "hPepDX52-LTx",
        "outputId": "438ab835-af4b-47ea-d449-b3d24c97787c",
        "colab": {
          "base_uri": "https://localhost:8080/",
          "height": 34
        }
      },
      "source": [
        "%timeit np_add(a,b)\n"
      ],
      "execution_count": null,
      "outputs": [
        {
          "output_type": "stream",
          "text": [
            "100 loops, best of 3: 4.31 ms per loop\n"
          ],
          "name": "stdout"
        }
      ]
    },
    {
      "cell_type": "markdown",
      "metadata": {
        "id": "h9hVYAJcHlzX"
      },
      "source": [
        "Now, we want to try out a memory profiler."
      ]
    },
    {
      "cell_type": "code",
      "metadata": {
        "id": "84klIFdRgre0",
        "outputId": "7c34b520-14a5-4322-cbf7-bda1cb121f46",
        "colab": {
          "base_uri": "https://localhost:8080/",
          "height": 207
        }
      },
      "source": [
        "!pip install memory_profiler\n",
        "import memory_profiler\n"
      ],
      "execution_count": null,
      "outputs": [
        {
          "output_type": "stream",
          "text": [
            "Collecting memory_profiler\n",
            "  Downloading https://files.pythonhosted.org/packages/f4/03/175d380294b2333b9b79c2f2aa235eb90ee95e3ddef644497a9455404312/memory_profiler-0.57.0.tar.gz\n",
            "Requirement already satisfied: psutil in /usr/local/lib/python3.6/dist-packages (from memory_profiler) (5.4.8)\n",
            "Building wheels for collected packages: memory-profiler\n",
            "  Building wheel for memory-profiler (setup.py) ... \u001b[?25l\u001b[?25hdone\n",
            "  Created wheel for memory-profiler: filename=memory_profiler-0.57.0-cp36-none-any.whl size=28995 sha256=ccd3c5f3b2e3be1f32a7a1967c8f76b3deb4493f37d0090ec0ecfb2e61a64979\n",
            "  Stored in directory: /root/.cache/pip/wheels/74/20/b5/20964ef97be73d2c3a695c9cad7bccd96d1e3e737a8163861f\n",
            "Successfully built memory-profiler\n",
            "Installing collected packages: memory-profiler\n",
            "Successfully installed memory-profiler-0.57.0\n"
          ],
          "name": "stdout"
        }
      ]
    },
    {
      "cell_type": "markdown",
      "metadata": {
        "id": "1lYjhy0ZgvJ5"
      },
      "source": [
        "Oops, we don't have one installed. We can install it on-the-fly like this:"
      ]
    },
    {
      "cell_type": "code",
      "metadata": {
        "id": "VwnkmG16-lD_"
      },
      "source": [
        "import memory_profiler\n",
        "%load_ext memory_profiler"
      ],
      "execution_count": null,
      "outputs": []
    },
    {
      "cell_type": "code",
      "metadata": {
        "id": "Q99lHQCJICt1",
        "outputId": "21787071-3de9-4187-c145-e0d5451d5390",
        "colab": {
          "base_uri": "https://localhost:8080/",
          "height": 34
        }
      },
      "source": [
        "%memit py_add(a,b)"
      ],
      "execution_count": null,
      "outputs": [
        {
          "output_type": "stream",
          "text": [
            "peak memory: 2189.41 MiB, increment: 22.58 MiB\n"
          ],
          "name": "stdout"
        }
      ]
    },
    {
      "cell_type": "code",
      "metadata": {
        "id": "EfWe5d3dIFt0",
        "outputId": "696040dc-a19a-4f55-9914-ee835cb307b3",
        "colab": {
          "base_uri": "https://localhost:8080/",
          "height": 34
        }
      },
      "source": [
        "%memit np_add(a,b)"
      ],
      "execution_count": null,
      "outputs": [
        {
          "output_type": "stream",
          "text": [
            "peak memory: 2166.92 MiB, increment: 0.02 MiB\n"
          ],
          "name": "stdout"
        }
      ]
    },
    {
      "cell_type": "markdown",
      "metadata": {
        "id": "4KJNVPeUJ3XZ"
      },
      "source": [
        "\n",
        "\n",
        "## Spiral Data Classification\n",
        "\n",
        "First, we import some modules and generate data in 3 classes"
      ]
    },
    {
      "cell_type": "code",
      "metadata": {
        "id": "9dUWIfhBJ3h_"
      },
      "source": [
        "%matplotlib inline\n",
        "import matplotlib\n",
        "from IPython.display import HTML, display, Image\n",
        "import numpy as np\n",
        "import matplotlib.pyplot as plt\n",
        "plt.rcParams['figure.figsize'] = (12.0, 10.0) # set default size of plots\n",
        "plt.rcParams['image.interpolation'] = 'nearest'\n",
        "plt.rcParams['image.cmap'] = 'gray'\n",
        "\n",
        "N = 100 # number of points per class\n",
        "D = 2 # dimensionality\n",
        "K = 3 # number of classes\n",
        "X = np.zeros((N*K,D)) # data matrix (each row = single example)\n",
        "y = np.zeros(N*K, dtype='uint8') # class labels\n",
        "for j in range(K):\n",
        "  ix = range(N*j,N*(j+1))\n",
        "  r = np.linspace(0.0,1,N) # radius\n",
        "  t = np.linspace(j*4,(j+1)*4,N) + np.random.randn(N)*0.2 # theta\n",
        "  X[ix] = np.c_[r*np.sin(t), r*np.cos(t)]\n",
        "  y[ix] = j"
      ],
      "execution_count": null,
      "outputs": []
    },
    {
      "cell_type": "markdown",
      "metadata": {
        "id": "j0CFgjWRvr6N"
      },
      "source": [
        "### Let's visualize the data"
      ]
    },
    {
      "cell_type": "code",
      "metadata": {
        "id": "tqYECBbmvxoD",
        "outputId": "d740c3c4-fd30-402d-94d1-2988a932907f",
        "colab": {
          "base_uri": "https://localhost:8080/",
          "height": 592
        }
      },
      "source": [
        "plt.scatter(X[:, 0], X[:, 1], c=y, s=40, cmap=plt.cm.Spectral)\n",
        "plt.show()"
      ],
      "execution_count": null,
      "outputs": [
        {
          "output_type": "display_data",
          "data": {
            "image/png": "[encoded data removed]",
            "text/plain": [
              "<Figure size 864x720 with 1 Axes>"
            ]
          },
          "metadata": {
            "tags": [],
            "needs_background": "light"
          }
        }
      ]
    },
    {
      "cell_type": "markdown",
      "metadata": {
        "id": "bd2Zsfn-K4lY"
      },
      "source": [
        "# Train a Linear Classifier\n",
        "\n",
        "## Initialize the weights with random numbers"
      ]
    },
    {
      "cell_type": "code",
      "metadata": {
        "id": "QBElZDfUKlGC"
      },
      "source": [
        "W = 0.01 * np.random.randn(D,K)\n",
        "b = np.zeros((1,K))\n",
        "step_size = 1e-0\n",
        "reg = 1e-3 "
      ],
      "execution_count": null,
      "outputs": []
    },
    {
      "cell_type": "markdown",
      "metadata": {
        "id": "8kBUjzcALEZh"
      },
      "source": [
        "## Optimize the classifier using a basic gradient descent"
      ]
    },
    {
      "cell_type": "code",
      "metadata": {
        "id": "eytY13d0KQw0",
        "outputId": "27b47d10-7818-4eb5-c515-c07501509d09",
        "colab": {
          "base_uri": "https://localhost:8080/",
          "height": 357
        }
      },
      "source": [
        "num_examples = X.shape[0]\n",
        "for i in range(200):\n",
        "  \n",
        "  # evaluate class scores, [N x K]\n",
        "  scores = np.dot(X, W) + b \n",
        "  \n",
        "  # compute the class probabilities\n",
        "  exp_scores = np.exp(scores)\n",
        "  probs = exp_scores / np.sum(exp_scores, axis=1, keepdims=True) # [N x K]\n",
        "  \n",
        "  # compute the loss: average cross-entropy loss and regularization\n",
        "  correct_logprobs = -np.log(probs[range(num_examples),y])\n",
        "  data_loss = np.sum(correct_logprobs)/num_examples\n",
        "  reg_loss = 0.5*reg*np.sum(W*W)\n",
        "  loss = data_loss + reg_loss\n",
        "  if i % 10 == 0:\n",
        "    print(\"iteration %d: loss %f\" % (i, loss))\n",
        "  # Compute the gradient\n",
        "  dscores = probs\n",
        "  dscores[range(num_examples),y] -= 1\n",
        "  dscores /= num_examples\n",
        "  \n",
        "  # backpropogate the gradient to the parameters (W,b)\n",
        "  dW = np.dot(X.T, dscores)\n",
        "  db = np.sum(dscores, axis=0, keepdims=True)\n",
        "  \n",
        "  dW += reg*W # regularization gradient\n",
        "  \n",
        "  # perform a parameter update\n",
        "  W += -step_size * dW\n",
        "  b += -step_size * db"
      ],
      "execution_count": null,
      "outputs": [
        {
          "output_type": "stream",
          "text": [
            "iteration 0: loss 1.099287\n",
            "iteration 10: loss 0.903380\n",
            "iteration 20: loss 0.830699\n",
            "iteration 30: loss 0.797708\n",
            "iteration 40: loss 0.780508\n",
            "iteration 50: loss 0.770680\n",
            "iteration 60: loss 0.764698\n",
            "iteration 70: loss 0.760888\n",
            "iteration 80: loss 0.758377\n",
            "iteration 90: loss 0.756679\n",
            "iteration 100: loss 0.755506\n",
            "iteration 110: loss 0.754683\n",
            "iteration 120: loss 0.754097\n",
            "iteration 130: loss 0.753676\n",
            "iteration 140: loss 0.753371\n",
            "iteration 150: loss 0.753147\n",
            "iteration 160: loss 0.752983\n",
            "iteration 170: loss 0.752861\n",
            "iteration 180: loss 0.752771\n",
            "iteration 190: loss 0.752703\n"
          ],
          "name": "stdout"
        }
      ]
    },
    {
      "cell_type": "markdown",
      "metadata": {
        "id": "QhUtSKSOLE_T"
      },
      "source": [
        "## Evaluate the accuracy"
      ]
    },
    {
      "cell_type": "code",
      "metadata": {
        "id": "ppTBjc_jLPo4",
        "outputId": "86904ce9-bbab-4883-a0a5-387c866e3a75",
        "colab": {
          "base_uri": "https://localhost:8080/",
          "height": 68
        }
      },
      "source": [
        "scores = np.dot(X, W) + b\n",
        "predicted_class = np.argmax(scores, axis=1)\n",
        "print('training accuracy: %.2f' % (np.mean(predicted_class == y)))\n",
        "print(W.size)\n",
        "print(b.size)"
      ],
      "execution_count": null,
      "outputs": [
        {
          "output_type": "stream",
          "text": [
            "training accuracy: 0.53\n",
            "6\n",
            "3\n"
          ],
          "name": "stdout"
        }
      ]
    },
    {
      "cell_type": "markdown",
      "metadata": {
        "id": "Luu4pqSMLrFU"
      },
      "source": [
        "## Plot the resulting classifier\n"
      ]
    },
    {
      "cell_type": "code",
      "metadata": {
        "id": "e4w_QR8VMaWQ",
        "outputId": "4d0877f3-0875-4548-e4d5-abe5184fba17",
        "colab": {
          "base_uri": "https://localhost:8080/",
          "height": 609
        }
      },
      "source": [
        "h = 0.02\n",
        "x_min, x_max = X[:, 0].min() - 1, X[:, 0].max() + 1\n",
        "y_min, y_max = X[:, 1].min() - 1, X[:, 1].max() + 1\n",
        "xx, yy = np.meshgrid(np.arange(x_min, x_max, h),\n",
        "                     np.arange(y_min, y_max, h))\n",
        "Z = np.dot(np.c_[xx.ravel(), yy.ravel()], W) + b\n",
        "Z = np.argmax(Z, axis=1)\n",
        "Z = Z.reshape(xx.shape)\n",
        "fig = plt.figure()\n",
        "plt.contourf(xx, yy, Z, cmap=plt.cm.Spectral, alpha=0.8)\n",
        "plt.scatter(X[:, 0], X[:, 1], c=y, s=40, cmap=plt.cm.Spectral)\n",
        "plt.xlim(xx.min(), xx.max())\n",
        "plt.ylim(yy.min(), yy.max())"
      ],
      "execution_count": null,
      "outputs": [
        {
          "output_type": "execute_result",
          "data": {
            "text/plain": [
              "(-1.881497286235014, 1.8785027137649892)"
            ]
          },
          "metadata": {
            "tags": []
          },
          "execution_count": 41
        },
        {
          "output_type": "display_data",
          "data": {
            "image/png": "[encoded data removed]",
            "text/plain": [
              "<Figure size 864x720 with 1 Axes>"
            ]
          },
          "metadata": {
            "tags": [],
            "needs_background": "light"
          }
        }
      ]
    },
    {
      "cell_type": "markdown",
      "metadata": {
        "id": "KKTEaWExrruH"
      },
      "source": [
        "## Let's try again, and add a hidden layer\n",
        "### We start by initializing the parameters"
      ]
    },
    {
      "cell_type": "code",
      "metadata": {
        "id": "1g2ZbVxLNqZ8",
        "outputId": "d278d874-a4d9-4583-a8cb-e21752a388f9",
        "colab": {
          "base_uri": "https://localhost:8080/",
          "height": 187
        }
      },
      "source": [
        "h = 100 # size of hidden layer\n",
        "W = 0.01 * np.random.randn(D,h)\n",
        "b = np.zeros((1,h))\n",
        "W2 = 0.01 * np.random.randn(h,K)\n",
        "b2 = np.zeros((1,K))\n",
        "\n",
        "step_size = 1e-0\n",
        "reg = 1e-3 # regularization strength\n",
        "\n",
        "# gradient descent loop\n",
        "num_examples = X.shape[0]\n",
        "for i in range(10000):\n",
        "  \n",
        "  # evaluate class scores, [N x K]\n",
        "  hidden_layer = np.maximum(0, np.dot(X, W) + b) # note, ReLU activation\n",
        "  scores = np.dot(hidden_layer, W2) + b2\n",
        "  \n",
        "  # compute the class probabilities\n",
        "  exp_scores = np.exp(scores)\n",
        "  probs = exp_scores / np.sum(exp_scores, axis=1, keepdims=True) # [N x K]\n",
        "  \n",
        "  # compute the loss: average cross-entropy loss and regularization\n",
        "  correct_logprobs = -np.log(probs[range(num_examples),y])\n",
        "  data_loss = np.sum(correct_logprobs)/num_examples\n",
        "  reg_loss = 0.5*reg*np.sum(W*W) + 0.5*reg*np.sum(W2*W2)\n",
        "  loss = data_loss + reg_loss\n",
        "  if i % 1000 == 0:\n",
        "    print(\"iteration %d: loss %f\" % (i, loss))\n",
        "  \n",
        "  # compute the gradient on scores\n",
        "  dscores = probs\n",
        "  dscores[range(num_examples),y] -= 1\n",
        "  dscores /= num_examples\n",
        "  \n",
        "  # backpropate the gradient to the parameters\n",
        "  # first backprop into parameters W2 and b2\n",
        "  dW2 = np.dot(hidden_layer.T, dscores)\n",
        "  db2 = np.sum(dscores, axis=0, keepdims=True)\n",
        "  # next backprop into hidden layer\n",
        "  dhidden = np.dot(dscores, W2.T)\n",
        "  # backprop the ReLU non-linearity\n",
        "  dhidden[hidden_layer <= 0] = 0\n",
        "  # finally into W,b\n",
        "  dW = np.dot(X.T, dhidden)\n",
        "  db = np.sum(dhidden, axis=0, keepdims=True)\n",
        "  \n",
        "  # add regularization gradient contribution\n",
        "  dW2 += reg * W2\n",
        "  dW += reg * W\n",
        "  \n",
        "  # perform a parameter update\n",
        "  W += -step_size * dW\n",
        "  b += -step_size * db\n",
        "  W2 += -step_size * dW2\n",
        "  b2 += -step_size * db2"
      ],
      "execution_count": null,
      "outputs": [
        {
          "output_type": "stream",
          "text": [
            "iteration 0: loss 1.098600\n",
            "iteration 1000: loss 0.295973\n",
            "iteration 2000: loss 0.257762\n",
            "iteration 3000: loss 0.252570\n",
            "iteration 4000: loss 0.249985\n",
            "iteration 5000: loss 0.249021\n",
            "iteration 6000: loss 0.248598\n",
            "iteration 7000: loss 0.248438\n",
            "iteration 8000: loss 0.248305\n",
            "iteration 9000: loss 0.248245\n"
          ],
          "name": "stdout"
        }
      ]
    },
    {
      "cell_type": "markdown",
      "metadata": {
        "id": "bBTn5pJ1heHB"
      },
      "source": [
        "## Evaluate training set accuracy"
      ]
    },
    {
      "cell_type": "code",
      "metadata": {
        "id": "iSbIAHTLM0XY",
        "outputId": "9f538997-9e57-4004-9525-a556aaaa02c0",
        "colab": {
          "base_uri": "https://localhost:8080/",
          "height": 119
        }
      },
      "source": [
        "hidden_layer = np.maximum(0, np.dot(X, W) + b)\n",
        "scores = np.dot(hidden_layer, W2) + b2\n",
        "predicted_class = np.argmax(scores, axis=1)\n",
        "print('training accuracy: %.2f' % (np.mean(predicted_class == y)))\n",
        "print(b.size)\n",
        "print(W.size)\n",
        "print(b2.size)\n",
        "print(W2.size)\n",
        "print(dscores.size)"
      ],
      "execution_count": null,
      "outputs": [
        {
          "output_type": "stream",
          "text": [
            "training accuracy: 0.98\n",
            "100\n",
            "200\n",
            "3\n",
            "300\n",
            "900\n"
          ],
          "name": "stdout"
        }
      ]
    },
    {
      "cell_type": "markdown",
      "metadata": {
        "id": "SHNHHqLEspPI"
      },
      "source": [
        "### Plot the resulting classifier"
      ]
    },
    {
      "cell_type": "code",
      "metadata": {
        "id": "UFlY3jP4PvQA",
        "outputId": "05540f44-bc29-4d74-bf75-9db6e6a8f974",
        "colab": {
          "base_uri": "https://localhost:8080/",
          "height": 609
        }
      },
      "source": [
        "h = 0.02\n",
        "x_min, x_max = X[:, 0].min() - 1, X[:, 0].max() + 1\n",
        "y_min, y_max = X[:, 1].min() - 1, X[:, 1].max() + 1\n",
        "xx, yy = np.meshgrid(np.arange(x_min, x_max, h),\n",
        "                     np.arange(y_min, y_max, h))\n",
        "Z = np.dot(np.maximum(0, np.dot(np.c_[xx.ravel(), yy.ravel()], W) + b), W2) + b2\n",
        "Z = np.argmax(Z, axis=1)\n",
        "Z = Z.reshape(xx.shape)\n",
        "fig = plt.figure()\n",
        "plt.contourf(xx, yy, Z, cmap=plt.cm.Spectral, alpha=0.8)\n",
        "plt.scatter(X[:, 0], X[:, 1], c=y, s=40, cmap=plt.cm.Spectral)\n",
        "plt.xlim(xx.min(), xx.max())\n",
        "plt.ylim(yy.min(), yy.max())"
      ],
      "execution_count": null,
      "outputs": [
        {
          "output_type": "execute_result",
          "data": {
            "text/plain": [
              "(-1.881497286235014, 1.8785027137649892)"
            ]
          },
          "metadata": {
            "tags": []
          },
          "execution_count": 44
        },
        {
          "output_type": "display_data",
          "data": {
            "image/png": "[encoded data removed]",
            "text/plain": [
              "<Figure size 864x720 with 1 Axes>"
            ]
          },
          "metadata": {
            "tags": [],
            "needs_background": "light"
          }
        }
      ]
    },
    {
      "cell_type": "markdown",
      "metadata": {
        "id": "iJDhZOEgl4CD"
      },
      "source": [
        "Hooray, with 603 parameters, we were able to fit the data.\n",
        "\n"
      ]
    },
    {
      "cell_type": "markdown",
      "metadata": {
        "id": "40H0qMJAlzzV"
      },
      "source": [
        "# Introduction to SciPy\n",
        "\n",
        "### SciPy has loads of useful \n",
        "\n",
        " * scipy.io.matlab\t–\tsupport\tfor\tMatlab\t(.mat)\t\n",
        " * scipy.io.loadmat()\tand\tscipy.io.savemat()\t\n",
        " * Clustering\talgorithms\t(scipy.cluster)\n",
        " * Integration\tand\tODEs\t(scipy.integrate)\n",
        " * Interpolation\t(scipy.interpolate)\n",
        " * Input\tand\toutput\t(scipy.io)\n",
        " * Linear\talgebra\t(scipy.linalg)\n",
        " * Muli-dimensional\timage\tprocessing\t(scipy.ndimage)\n",
        " * Optimizaton\tand\troot\tfinding\t(scipy.optimize)\n",
        " * Signal\tprocessing\t(scipy.signal)\n",
        " * Sparse\tmatrices\t(scipy.sparse)\n",
        " * Spatial\talgorithms\tand\tdata\tstructures\t(scipy.spatial)\n",
        " * Special\tfunctions\t(scipy.special)\n",
        " * Statstical\tfunctions\t(scipy.stats)\n",
        "\n",
        "\n",
        "\n",
        "https://docs.scipy.org/doc/scipy/reference/tutorial/interpolate.html\n",
        "\n",
        "\n",
        "1-D interpolation (interp1d)\n",
        "The interp1d class in scipy.interpolate is a convenient method to create a function based on fixed data points, which can be evaluated anywhere within the domain defined by the given data using linear interpolation. An instance of this class is created by passing the 1-D vectors comprising the data. The instance of this class defines a __call__ method and can therefore by treated like a function which interpolates between known data values to obtain unknown values (it also has a docstring for help). Behavior at the boundary can be specified at instantiation time. The following example demonstrates its use, for linear and cubic spline interpolation:\n"
      ]
    },
    {
      "cell_type": "code",
      "metadata": {
        "id": "buOFu9gwSjuo"
      },
      "source": [
        "from scipy.interpolate import interp1d\n",
        "\n",
        "x = np.linspace(0, 10, num=11, endpoint=True)\n",
        "y = np.cos(-x**2/9.0)\n",
        "f = interp1d(x, y)\n",
        "f2 = interp1d(x, y, kind='cubic')\n",
        "\n",
        "xnew = np.linspace(0, 10, num=41, endpoint=True)\n",
        "import matplotlib.pyplot as plt\n",
        "plt.plot(x, y, 'o', xnew, f(xnew), '-', xnew, f2(xnew), '--')\n",
        "plt.legend(['data', 'linear', 'cubic'], loc='best')\n",
        "plt.show()"
      ],
      "execution_count": null,
      "outputs": []
    },
    {
      "cell_type": "markdown",
      "metadata": {
        "id": "rzcBP-wkS0U5"
      },
      "source": [
        "Multivariate data interpolation (griddata)\n",
        "Suppose you have multidimensional data, for instance, for an underlying function f(x, y) you only know the values at points (x[i], y[i]) that do not form a regular grid.\n",
        "\n",
        "Suppose we want to interpolate the 2-D function"
      ]
    },
    {
      "cell_type": "code",
      "metadata": {
        "id": "Qn5R1C_jS1q1"
      },
      "source": [
        "def func(x, y):\n",
        "  return x*(1-x)*np.cos(4*np.pi*x) * np.sin(4*np.pi*y**2)**2"
      ],
      "execution_count": null,
      "outputs": []
    },
    {
      "cell_type": "markdown",
      "metadata": {
        "id": "zmNd9zjGTJVx"
      },
      "source": [
        "## on a grid in [0, 1]x[0, 1]\n"
      ]
    },
    {
      "cell_type": "code",
      "metadata": {
        "id": "H9KVOL2xTgGG"
      },
      "source": [
        "grid_x, grid_y = np.mgrid[0:1:100j, 0:1:200j]"
      ],
      "execution_count": null,
      "outputs": []
    },
    {
      "cell_type": "markdown",
      "metadata": {
        "id": "M1BRIaMSTg2a"
      },
      "source": [
        "### but we only know its values at 1000 data points:\n"
      ]
    },
    {
      "cell_type": "code",
      "metadata": {
        "id": "f9sytmTOThAN"
      },
      "source": [
        "points = np.random.rand(1000, 2)\n",
        "values = func(points[:,0], points[:,1])"
      ],
      "execution_count": null,
      "outputs": []
    },
    {
      "cell_type": "markdown",
      "metadata": {
        "id": "zshAkYzXThI4"
      },
      "source": [
        "### This can be done with the griddata function. Below, we try out all of the interpolation methods."
      ]
    },
    {
      "cell_type": "code",
      "metadata": {
        "id": "y2Jd5uG-ThTZ"
      },
      "source": [
        "from scipy.interpolate import griddata \n",
        "grid_z0 = griddata(points, values, (grid_x, grid_y), method='nearest') \n",
        "grid_z1 = griddata(points, values, (grid_x, grid_y), method='linear') \n",
        "grid_z2 = griddata(points, values, (grid_x, grid_y), method='cubic')"
      ],
      "execution_count": null,
      "outputs": []
    },
    {
      "cell_type": "markdown",
      "metadata": {
        "id": "2URAi94cThe4"
      },
      "source": [
        "### One can see that the exact result is reproduced by all of the methods to some degree."
      ]
    },
    {
      "cell_type": "code",
      "metadata": {
        "id": "TX9mTRRxThon"
      },
      "source": [
        "import matplotlib.pyplot as plt\n",
        "plt.subplot(221)\n",
        "plt.imshow(func(grid_x, grid_y).T, extent=(0,1,0,1), origin='lower')\n",
        "plt.plot(points[:,0], points[:,1], 'k.', ms=1)\n",
        "plt.title('Original')\n",
        "plt.subplot(222)\n",
        "plt.imshow(grid_z0.T, extent=(0,1,0,1), origin='lower')\n",
        "plt.title('Nearest')\n",
        "plt.subplot(223)\n",
        "plt.imshow(grid_z1.T, extent=(0,1,0,1), origin='lower')\n",
        "plt.title('Linear')\n",
        "plt.subplot(224)\n",
        "plt.imshow(grid_z2.T, extent=(0,1,0,1), origin='lower')\n",
        "plt.title('Cubic')\n",
        "plt.gcf().set_size_inches(10, 10)\n",
        "plt.show()"
      ],
      "execution_count": null,
      "outputs": []
    },
    {
      "cell_type": "markdown",
      "metadata": {
        "id": "FFK3h2DqJsw5"
      },
      "source": [
        "# Notebooks at MSI\n",
        "\n",
        "Jupyter is more than an interface for teaching. Jupyter is heavily used by researchers. It's a great interface for research. MSI has a large cluster for running large-scale simulations and data anlysis. MSI also runs  JupyterHub to allow researchers to access thier data in a Jupyter environment. JupyterHub can be accessed here:\n",
        "\n",
        "https://notebooks.msi.umn.edu"
      ]
    },
    {
      "cell_type": "markdown",
      "metadata": {
        "id": "5HP9UYy3DQnZ"
      },
      "source": [
        "To use the notebooks at MSI, you will first need to select the group you want to work in. Most of you only have access to a single group. If you happen to be doing some research, you might have access to another group. After you select the group created for the class (csci5980) and press continue, you can click a button that reads \"Start My Server\". This will bring you to a dropdown menu to select the resources you need."
      ]
    },
    {
      "cell_type": "markdown",
      "metadata": {
        "id": "2G5LHfbjIevK"
      },
      "source": [
        "You can select the one labeled \"Mesabi - 2 Cores, 4 GB, 8 hours\". This will submit a job to the cluster and reserve the described resources for your Jupyter session."
      ]
    },
    {
      "cell_type": "markdown",
      "metadata": {
        "id": "80ejVmqEJI4l"
      },
      "source": [
        "JupyterHub at MSI is being upgraded over the next few weeks, so there will be some changes and outages to the interface. Expect email with updates!"
      ]
    },
    {
      "cell_type": "code",
      "metadata": {
        "id": "aEar4g1-DN1r"
      },
      "source": [
        ""
      ],
      "execution_count": null,
      "outputs": []
    }
  ]
}